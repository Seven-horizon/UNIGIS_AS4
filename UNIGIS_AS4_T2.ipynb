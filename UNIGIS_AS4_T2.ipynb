{
 "cells": [
  {
   "cell_type": "code",
   "execution_count": null,
   "id": "ebc3e38a-0baf-40c4-89ca-e03b305989ac",
   "metadata": {},
   "outputs": [],
   "source": [
    "# Assignment A3\n",
    "This Jupyter Notebook file is very simple. First, a shapefile is loaded using\n",
    "GeoPandas and then visualized."
   ]
  },
  {
   "cell_type": "code",
   "execution_count": null,
   "id": "cf1beec5-2d65-4750-a7ab-c6b4045ede7e",
   "metadata": {},
   "outputs": [],
   "source": [
    "import geopandas as gpd\n",
    "FILE = \"C:/Users/admas/OneDrive/Documents/TL_P221103/GIS/Admin areas/2023-10-03 Admin zone people per house.shp\"\n",
    "gdf = gpd.read_file(FILE)"
   ]
  },
  {
   "cell_type": "code",
   "execution_count": null,
   "id": "7189b21d-6584-41e2-8d63-560edb91bb5b",
   "metadata": {},
   "outputs": [],
   "source": [
    "gdf.explore()"
   ]
  }
 ],
 "metadata": {
  "kernelspec": {
   "display_name": "Python 3 (ipykernel)",
   "language": "python",
   "name": "python3"
  },
  "language_info": {
   "codemirror_mode": {
    "name": "ipython",
    "version": 3
   },
   "file_extension": ".py",
   "mimetype": "text/x-python",
   "name": "python",
   "nbconvert_exporter": "python",
   "pygments_lexer": "ipython3",
   "version": "3.11.10"
  }
 },
 "nbformat": 4,
 "nbformat_minor": 5
}
